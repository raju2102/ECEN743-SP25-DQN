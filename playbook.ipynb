{
 "cells": [
  {
   "cell_type": "code",
   "execution_count": 9,
   "metadata": {},
   "outputs": [
    {
     "ename": "KeyError",
     "evalue": "'ALE/Breakout-v5'",
     "output_type": "error",
     "traceback": [
      "\u001b[0;31m---------------------------------------------------------------------------\u001b[0m",
      "\u001b[0;31mKeyError\u001b[0m                                  Traceback (most recent call last)",
      "Cell \u001b[0;32mIn[9], line 2\u001b[0m\n\u001b[1;32m      1\u001b[0m \u001b[38;5;28;01mimport\u001b[39;00m \u001b[38;5;21;01mgymnasium\u001b[39;00m \u001b[38;5;28;01mas\u001b[39;00m \u001b[38;5;21;01mgym\u001b[39;00m\n\u001b[0;32m----> 2\u001b[0m \u001b[38;5;28mprint\u001b[39m(\u001b[43mgym\u001b[49m\u001b[38;5;241;43m.\u001b[39;49m\u001b[43mregistry\u001b[49m\u001b[43m[\u001b[49m\u001b[38;5;124;43m\"\u001b[39;49m\u001b[38;5;124;43mALE/Breakout-v5\u001b[39;49m\u001b[38;5;124;43m\"\u001b[39;49m\u001b[43m]\u001b[49m)\n",
      "\u001b[0;31mKeyError\u001b[0m: 'ALE/Breakout-v5'"
     ]
    }
   ],
   "source": [
    "import gymnasium as gym\n",
    "print(gym.registry[\"ALE/Breakout-v5\"])"
   ]
  },
  {
   "cell_type": "code",
   "execution_count": 7,
   "metadata": {},
   "outputs": [
    {
     "name": "stdout",
     "output_type": "stream",
     "text": [
      "Found existing installation: gymnasium 1.1.1\n",
      "Uninstalling gymnasium-1.1.1:\n",
      "  Successfully uninstalled gymnasium-1.1.1\n",
      "Found existing installation: ale-py 0.10.2\n",
      "Uninstalling ale-py-0.10.2:\n",
      "  Successfully uninstalled ale-py-0.10.2\n",
      "Defaulting to user installation because normal site-packages is not writeable\n",
      "Collecting ale-py\n",
      "  Downloading ale_py-0.10.2-cp39-cp39-macosx_11_0_arm64.whl.metadata (8.2 kB)\n",
      "Collecting gymnasium[atari]\n",
      "  Downloading gymnasium-1.1.1-py3-none-any.whl.metadata (9.4 kB)\n",
      "Requirement already satisfied: numpy>=1.21.0 in /Users/rajakarthikvobugari/Library/Python/3.9/lib/python/site-packages (from gymnasium[atari]) (2.0.2)\n",
      "Requirement already satisfied: cloudpickle>=1.2.0 in /Users/rajakarthikvobugari/Library/Python/3.9/lib/python/site-packages (from gymnasium[atari]) (3.1.1)\n",
      "Requirement already satisfied: importlib-metadata>=4.8.0 in /Users/rajakarthikvobugari/Library/Python/3.9/lib/python/site-packages (from gymnasium[atari]) (8.6.1)\n",
      "Requirement already satisfied: typing-extensions>=4.3.0 in /Users/rajakarthikvobugari/Library/Python/3.9/lib/python/site-packages (from gymnasium[atari]) (4.12.2)\n",
      "Requirement already satisfied: farama-notifications>=0.0.1 in /Users/rajakarthikvobugari/Library/Python/3.9/lib/python/site-packages (from gymnasium[atari]) (0.0.4)\n",
      "Requirement already satisfied: zipp>=3.20 in /Users/rajakarthikvobugari/Library/Python/3.9/lib/python/site-packages (from importlib-metadata>=4.8.0->gymnasium[atari]) (3.21.0)\n",
      "Downloading ale_py-0.10.2-cp39-cp39-macosx_11_0_arm64.whl (1.6 MB)\n",
      "\u001b[2K   \u001b[90m━━━━━━━━━━━━━━━━━━━━━━━━━━━━━━━━━━━━━━━━\u001b[0m \u001b[32m1.6/1.6 MB\u001b[0m \u001b[31m17.6 MB/s\u001b[0m eta \u001b[36m0:00:00\u001b[0m\n",
      "\u001b[?25hDownloading gymnasium-1.1.1-py3-none-any.whl (965 kB)\n",
      "\u001b[2K   \u001b[90m━━━━━━━━━━━━━━━━━━━━━━━━━━━━━━━━━━━━━━━━\u001b[0m \u001b[32m965.4/965.4 kB\u001b[0m \u001b[31m1.2 MB/s\u001b[0m eta \u001b[36m0:00:00\u001b[0mta \u001b[36m0:00:01\u001b[0m\n",
      "\u001b[?25hInstalling collected packages: gymnasium, ale-py\n",
      "Successfully installed ale-py-0.10.2 gymnasium-1.1.1\n"
     ]
    }
   ],
   "source": [
    "!/usr/bin/python3 -m pip uninstall gymnasium ale-py -y\n",
    "!/usr/bin/python3 -m pip install \"gymnasium[atari]\" ale-py --no-cache-dir"
   ]
  },
  {
   "cell_type": "code",
   "execution_count": null,
   "metadata": {},
   "outputs": [],
   "source": []
  }
 ],
 "metadata": {
  "kernelspec": {
   "display_name": "Python 3",
   "language": "python",
   "name": "python3"
  },
  "language_info": {
   "codemirror_mode": {
    "name": "ipython",
    "version": 3
   },
   "file_extension": ".py",
   "mimetype": "text/x-python",
   "name": "python",
   "nbconvert_exporter": "python",
   "pygments_lexer": "ipython3",
   "version": "3.9.6"
  }
 },
 "nbformat": 4,
 "nbformat_minor": 2
}
